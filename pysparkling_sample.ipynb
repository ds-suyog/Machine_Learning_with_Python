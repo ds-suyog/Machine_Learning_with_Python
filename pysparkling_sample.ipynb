{
 "cells": [
  {
   "cell_type": "raw",
   "metadata": {},
   "source": []
  },
  {
   "cell_type": "code",
   "execution_count": null,
   "metadata": {
    "collapsed": true
   },
   "outputs": [],
   "source": []
  },
  {
   "cell_type": "markdown",
   "metadata": {
    "deletable": true,
    "editable": true
   },
   "source": [
    "## Spark + H20 + Python   :)"
   ]
  },
  {
   "cell_type": "markdown",
   "metadata": {
    "deletable": true,
    "editable": true
   },
   "source": [
    "## 1. Define Spark Context"
   ]
  },
  {
   "cell_type": "code",
   "execution_count": 24,
   "metadata": {
    "collapsed": false,
    "deletable": true,
    "editable": true
   },
   "outputs": [
    {
     "data": {
      "text/html": [
       "\n",
       "        <div>\n",
       "            <p><b>SparkContext</b></p>\n",
       "\n",
       "            <p><a href=\"http://10.50.0.248:4040\">Spark UI</a></p>\n",
       "\n",
       "            <dl>\n",
       "              <dt>Version</dt>\n",
       "                <dd><code>v2.2.0</code></dd>\n",
       "              <dt>Master</dt>\n",
       "                <dd><code>local[*]</code></dd>\n",
       "              <dt>AppName</dt>\n",
       "                <dd><code>PySparkShell</code></dd>\n",
       "            </dl>\n",
       "        </div>\n",
       "        "
      ],
      "text/plain": [
       "<SparkContext master=local[*] appName=PySparkShell>"
      ]
     },
     "execution_count": 24,
     "metadata": {},
     "output_type": "execute_result"
    }
   ],
   "source": [
    "sc"
   ]
  },
  {
   "cell_type": "markdown",
   "metadata": {
    "deletable": true,
    "editable": true
   },
   "source": [
    "## 2. Start H2O Context"
   ]
  },
  {
   "cell_type": "code",
   "execution_count": 25,
   "metadata": {
    "collapsed": true,
    "deletable": true,
    "editable": true
   },
   "outputs": [],
   "source": [
    "#from pysparkling import *\n",
    "#hc= H2OContext(sc).start()"
   ]
  },
  {
   "cell_type": "code",
   "execution_count": 26,
   "metadata": {
    "collapsed": false,
    "deletable": true,
    "editable": true
   },
   "outputs": [
    {
     "name": "stdout",
     "output_type": "stream",
     "text": [
      "\n",
      "Sparkling Water Context:\n",
      " * H2O name: sparkling-water-suyog_local-1545923950854\n",
      " * cluster size: 1\n",
      " * list of used nodes:\n",
      "  (executorId, host, port)\n",
      "  ------------------------\n",
      "  (driver,10.50.0.248,54321)\n",
      "  ------------------------\n",
      "\n",
      "  Open H2O Flow in browser: http://10.50.0.248:54321 (CMD + click in Mac OSX)\n",
      "\n",
      "    \n"
     ]
    }
   ],
   "source": [
    "from pysparkling import *\n",
    "hc = H2OContext.getOrCreate(spark)"
   ]
  },
  {
   "cell_type": "code",
   "execution_count": 27,
   "metadata": {
    "collapsed": true,
    "deletable": true,
    "editable": true
   },
   "outputs": [],
   "source": [
    "#alternate way\n",
    "# from pyspark.sql import SparkSession\n",
    "# spark = SparkSession.builder.appName(\"SparklingWaterApp\").getOrCreate()\n",
    "# h2oConf = H2OConf(spark).set(\"spark.ui.enabled\", \"false\")\n",
    "# hc = H2OContext.getOrCreate(spark, conf=h2oConf)"
   ]
  },
  {
   "cell_type": "markdown",
   "metadata": {
    "deletable": true,
    "editable": true
   },
   "source": [
    "## 3. Define H2O Context"
   ]
  },
  {
   "cell_type": "code",
   "execution_count": 28,
   "metadata": {
    "collapsed": false,
    "deletable": true,
    "editable": true
   },
   "outputs": [
    {
     "name": "stdout",
     "output_type": "stream",
     "text": [
      "\n",
      "Sparkling Water Context:\n",
      " * H2O name: sparkling-water-suyog_local-1545923950854\n",
      " * cluster size: 1\n",
      " * list of used nodes:\n",
      "  (executorId, host, port)\n",
      "  ------------------------\n",
      "  (driver,10.50.0.248,54321)\n",
      "  ------------------------\n",
      "\n",
      "  Open H2O Flow in browser: http://10.50.0.248:54321 (CMD + click in Mac OSX)\n",
      "\n",
      "    \n"
     ]
    },
    {
     "data": {
      "text/plain": []
     },
     "execution_count": 28,
     "metadata": {},
     "output_type": "execute_result"
    }
   ],
   "source": [
    "hc"
   ]
  },
  {
   "cell_type": "markdown",
   "metadata": {
    "collapsed": true,
    "deletable": true,
    "editable": true
   },
   "source": [
    "## 4. Import H2O Python library"
   ]
  },
  {
   "cell_type": "code",
   "execution_count": 20,
   "metadata": {
    "collapsed": true,
    "deletable": true,
    "editable": true
   },
   "outputs": [],
   "source": [
    "import h2o"
   ]
  },
  {
   "cell_type": "markdown",
   "metadata": {
    "deletable": true,
    "editable": true
   },
   "source": [
    "## 5. View all available H2O Python functions"
   ]
  },
  {
   "cell_type": "code",
   "execution_count": 29,
   "metadata": {
    "collapsed": false,
    "deletable": true,
    "editable": true
   },
   "outputs": [
    {
     "data": {
      "text/plain": [
       "['H2OFrame',\n",
       " '__all__',\n",
       " '__buildinfo__',\n",
       " '__builtins__',\n",
       " '__cached__',\n",
       " '__doc__',\n",
       " '__file__',\n",
       " '__loader__',\n",
       " '__name__',\n",
       " '__package__',\n",
       " '__path__',\n",
       " '__spec__',\n",
       " '__version__',\n",
       " 'absolute_import',\n",
       " 'api',\n",
       " 'archive',\n",
       " 'as_list',\n",
       " 'assign',\n",
       " 'backend',\n",
       " 'cluster',\n",
       " 'cluster_info',\n",
       " 'cluster_status',\n",
       " 'connect',\n",
       " 'connection',\n",
       " 'create_frame',\n",
       " 'deep_copy',\n",
       " 'demo',\n",
       " 'display',\n",
       " 'division',\n",
       " 'download_all_logs',\n",
       " 'download_csv',\n",
       " 'download_pojo',\n",
       " 'enable_expr_optimizations',\n",
       " 'estimators',\n",
       " 'exceptions',\n",
       " 'export_file',\n",
       " 'expr',\n",
       " 'expr_optimizer',\n",
       " 'flow',\n",
       " 'frame',\n",
       " 'frames',\n",
       " 'get_frame',\n",
       " 'get_grid',\n",
       " 'get_model',\n",
       " 'get_timezone',\n",
       " 'grid',\n",
       " 'group_by',\n",
       " 'h2o',\n",
       " 'here',\n",
       " 'import_file',\n",
       " 'import_sql_select',\n",
       " 'import_sql_table',\n",
       " 'init',\n",
       " 'interaction',\n",
       " 'is_expr_optimizations_enabled',\n",
       " 'job',\n",
       " 'lazy_import',\n",
       " 'list_timezones',\n",
       " 'load_dataset',\n",
       " 'load_model',\n",
       " 'log_and_echo',\n",
       " 'ls',\n",
       " 'make_metrics',\n",
       " 'model',\n",
       " 'mojo_predict_csv',\n",
       " 'mojo_predict_pandas',\n",
       " 'network_test',\n",
       " 'no_progress',\n",
       " 'open',\n",
       " 'os',\n",
       " 'parse_raw',\n",
       " 'parse_setup',\n",
       " 'path',\n",
       " 'print_function',\n",
       " 'rapids',\n",
       " 'remove',\n",
       " 'remove_all',\n",
       " 'save_model',\n",
       " 'schemas',\n",
       " 'set_timezone',\n",
       " 'show_progress',\n",
       " 'shutdown',\n",
       " 'transforms',\n",
       " 'two_dim_table',\n",
       " 'unicode_literals',\n",
       " 'upload_custom_metric',\n",
       " 'upload_file',\n",
       " 'utils',\n",
       " 'zipfile']"
      ]
     },
     "execution_count": 29,
     "metadata": {},
     "output_type": "execute_result"
    }
   ],
   "source": [
    "dir(h2o)"
   ]
  },
  {
   "cell_type": "markdown",
   "metadata": {
    "collapsed": true,
    "deletable": true,
    "editable": true
   },
   "source": [
    "## 6. Parse Chicago Crime dataset into H2O"
   ]
  },
  {
   "cell_type": "code",
   "execution_count": 32,
   "metadata": {
    "collapsed": false,
    "deletable": true,
    "editable": true
   },
   "outputs": [
    {
     "name": "stdout",
     "output_type": "stream",
     "text": [
      "Parse progress: |█████████████████████████████████████████████████████████| 100%\n",
      "(9999, 22)\n"
     ]
    },
    {
     "data": {
      "text/html": [
       "<table>\n",
       "<thead>\n",
       "<tr><th>       </th><th>ID               </th><th>Case Number  </th><th>Date               </th><th>Block               </th><th>IUCR              </th><th>Primary Type   </th><th>Description                 </th><th>Location Description  </th><th>Arrest  </th><th>Domestic  </th><th>Beat              </th><th>District          </th><th>Ward              </th><th>Community Area    </th><th>FBI Code          </th><th>X Coordinate      </th><th>Y Coordinate      </th><th>Year  </th><th>Updated On         </th><th>Latitude          </th><th>Longitude          </th><th>Location                     </th></tr>\n",
       "</thead>\n",
       "<tbody>\n",
       "<tr><td>type   </td><td>int              </td><td>string       </td><td>time               </td><td>enum                </td><td>int               </td><td>enum           </td><td>enum                        </td><td>enum                  </td><td>enum    </td><td>enum      </td><td>int               </td><td>int               </td><td>int               </td><td>int               </td><td>int               </td><td>int               </td><td>int               </td><td>int   </td><td>time               </td><td>real              </td><td>real               </td><td>enum                         </td></tr>\n",
       "<tr><td>mins   </td><td>21735.0          </td><td>NaN          </td><td>1421971212000.0    </td><td>                    </td><td>110.0             </td><td>               </td><td>                            </td><td>                      </td><td>        </td><td>          </td><td>111.0             </td><td>1.0               </td><td>1.0               </td><td>1.0               </td><td>2.0               </td><td>1100317.0         </td><td>1814255.0         </td><td>2015.0</td><td>1422579065000.0    </td><td>41.64507243       </td><td>-87.906463888      </td><td>                             </td></tr>\n",
       "<tr><td>mean   </td><td>9931318.737373738</td><td>NaN          </td><td>1422684916335.8333 </td><td>                    </td><td>1189.6765135699375</td><td>               </td><td>                            </td><td>                      </td><td>        </td><td>          </td><td>1159.6180618061803</td><td>11.348988512757956</td><td>22.954095409540948</td><td>37.44764476447645 </td><td>12.740123622682075</td><td>1163880.5981498423</td><td>1885916.1498424315</td><td>2015.0</td><td>1423260959047.5044 </td><td>41.84256522467349 </td><td>-87.67414052209627 </td><td>                             </td></tr>\n",
       "<tr><td>maxs   </td><td>9962898.0        </td><td>NaN          </td><td>1423439020000.0    </td><td>                    </td><td>5131.0            </td><td>               </td><td>                            </td><td>                      </td><td>        </td><td>          </td><td>2535.0            </td><td>25.0              </td><td>50.0              </td><td>77.0              </td><td>26.0              </td><td>1205069.0         </td><td>1951533.0         </td><td>2015.0</td><td>1423961019000.0    </td><td>42.022646183      </td><td>-87.524773286      </td><td>                             </td></tr>\n",
       "<tr><td>sigma  </td><td>396787.5642214296</td><td>NaN          </td><td>434210690.1862128  </td><td>                    </td><td>927.7514355826431 </td><td>               </td><td>                            </td><td>                      </td><td>        </td><td>          </td><td>695.7602987498403 </td><td>6.945474933012862 </td><td>13.649566114361292</td><td>21.274876222320906</td><td>7.574238579108434 </td><td>16496.449368147216</td><td>31274.016319855982</td><td>0.0   </td><td>435853634.4763587  </td><td>0.0860186579358503</td><td>0.06003579706529879</td><td>                             </td></tr>\n",
       "<tr><td>zeros  </td><td>0                </td><td>0            </td><td>0                  </td><td>                    </td><td>0                 </td><td>               </td><td>                            </td><td>                      </td><td>        </td><td>          </td><td>0                 </td><td>0                 </td><td>0                 </td><td>0                 </td><td>0                 </td><td>0                 </td><td>0                 </td><td>0     </td><td>0                  </td><td>0                 </td><td>0                  </td><td>                             </td></tr>\n",
       "<tr><td>missing</td><td>0                </td><td>0            </td><td>0                  </td><td>0                   </td><td>419               </td><td>0              </td><td>0                           </td><td>6                     </td><td>0       </td><td>0         </td><td>0                 </td><td>162               </td><td>0                 </td><td>0                 </td><td>2557              </td><td>162               </td><td>162               </td><td>0     </td><td>0                  </td><td>162               </td><td>162                </td><td>162                          </td></tr>\n",
       "<tr><td>0      </td><td>9955810.0        </td><td>HY144797     </td><td>2015-02-08 23:43:40</td><td>081XX S COLES AVE   </td><td>1811.0            </td><td>NARCOTICS      </td><td>POSS: CANNABIS 30GMS OR LESS</td><td>STREET                </td><td>true    </td><td>false     </td><td>422.0             </td><td>4.0               </td><td>7.0               </td><td>46.0              </td><td>18.0              </td><td>1198273.0         </td><td>1851626.0         </td><td>2015.0</td><td>2015-02-15 00:43:39</td><td>41.747693646      </td><td>-87.549035389      </td><td>(41.747693646, -87.549035389)</td></tr>\n",
       "<tr><td>1      </td><td>9955861.0        </td><td>HY144838     </td><td>2015-02-08 23:41:42</td><td>118XX S STATE ST    </td><td>486.0             </td><td>BATTERY        </td><td>DOMESTIC BATTERY SIMPLE     </td><td>APARTMENT             </td><td>true    </td><td>true      </td><td>522.0             </td><td>5.0               </td><td>34.0              </td><td>53.0              </td><td>nan               </td><td>1178335.0         </td><td>1826581.0         </td><td>2015.0</td><td>2015-02-15 00:43:39</td><td>41.679442289      </td><td>-87.622850758      </td><td>(41.679442289, -87.622850758)</td></tr>\n",
       "<tr><td>2      </td><td>9955801.0        </td><td>HY144779     </td><td>2015-02-08 23:30:22</td><td>002XX S LARAMIE AVE </td><td>2026.0            </td><td>NARCOTICS      </td><td>POSS: PCP                   </td><td>SIDEWALK              </td><td>true    </td><td>false     </td><td>1522.0            </td><td>15.0              </td><td>29.0              </td><td>25.0              </td><td>18.0              </td><td>1141717.0         </td><td>1898581.0         </td><td>2015.0</td><td>2015-02-15 00:43:39</td><td>41.87777333       </td><td>-87.755117993      </td><td>(41.87777333, -87.755117993) </td></tr>\n",
       "<tr><td>3      </td><td>9956197.0        </td><td>HY144787     </td><td>2015-02-08 23:30:23</td><td>006XX E 67TH ST     </td><td>1811.0            </td><td>NARCOTICS      </td><td>POSS: CANNABIS 30GMS OR LESS</td><td>STREET                </td><td>true    </td><td>false     </td><td>321.0             </td><td>nan               </td><td>6.0               </td><td>42.0              </td><td>18.0              </td><td>nan               </td><td>nan               </td><td>2015.0</td><td>2015-02-15 00:43:39</td><td>nan               </td><td>nan                </td><td>                             </td></tr>\n",
       "<tr><td>4      </td><td>9955846.0        </td><td>HY144829     </td><td>2015-02-08 23:30:58</td><td>0000X S MAYFIELD AVE</td><td>610.0             </td><td>BURGLARY       </td><td>FORCIBLE ENTRY              </td><td>APARTMENT             </td><td>false   </td><td>false     </td><td>1513.0            </td><td>15.0              </td><td>29.0              </td><td>25.0              </td><td>5.0               </td><td>1137239.0         </td><td>1899372.0         </td><td>2015.0</td><td>2015-02-15 00:43:39</td><td>41.880025548      </td><td>-87.771541324      </td><td>(41.880025548, -87.771541324)</td></tr>\n",
       "<tr><td>5      </td><td>9955835.0        </td><td>HY144778     </td><td>2015-02-08 23:30:21</td><td>010XX W 48TH ST     </td><td>486.0             </td><td>BATTERY        </td><td>DOMESTIC BATTERY SIMPLE     </td><td>APARTMENT             </td><td>false   </td><td>true      </td><td>933.0             </td><td>9.0               </td><td>3.0               </td><td>61.0              </td><td>nan               </td><td>1169986.0         </td><td>1873019.0         </td><td>2015.0</td><td>2015-02-15 00:43:39</td><td>41.807059405      </td><td>-87.65206589       </td><td>(41.807059405, -87.65206589) </td></tr>\n",
       "<tr><td>6      </td><td>9955872.0        </td><td>HY144822     </td><td>2015-02-08 23:27:24</td><td>015XX W ARTHUR AVE  </td><td>1320.0            </td><td>CRIMINAL DAMAGE</td><td>TO VEHICLE                  </td><td>STREET                </td><td>false   </td><td>false     </td><td>2432.0            </td><td>24.0              </td><td>40.0              </td><td>1.0               </td><td>14.0              </td><td>1164732.0         </td><td>1943222.0         </td><td>2015.0</td><td>2015-02-15 00:43:39</td><td>41.999814056      </td><td>-87.669342967      </td><td>(41.999814056, -87.669342967)</td></tr>\n",
       "<tr><td>7      </td><td>21752.0          </td><td>HY144738     </td><td>2015-02-08 23:26:12</td><td>060XX W GRAND AVE   </td><td>110.0             </td><td>HOMICIDE       </td><td>FIRST DEGREE MURDER         </td><td>STREET                </td><td>true    </td><td>false     </td><td>2512.0            </td><td>25.0              </td><td>37.0              </td><td>19.0              </td><td>nan               </td><td>1135910.0         </td><td>1914206.0         </td><td>2015.0</td><td>2015-02-15 00:43:39</td><td>41.920755683      </td><td>-87.776067514      </td><td>(41.920755683, -87.776067514)</td></tr>\n",
       "<tr><td>8      </td><td>9955808.0        </td><td>HY144775     </td><td>2015-02-08 23:20:33</td><td>001XX W WACKER DR   </td><td>460.0             </td><td>BATTERY        </td><td>SIMPLE                      </td><td>OTHER                 </td><td>false   </td><td>false     </td><td>122.0             </td><td>1.0               </td><td>42.0              </td><td>32.0              </td><td>nan               </td><td>1175384.0         </td><td>1902088.0         </td><td>2015.0</td><td>2015-02-15 00:43:39</td><td>41.886707818      </td><td>-87.631396356      </td><td>(41.886707818, -87.631396356)</td></tr>\n",
       "<tr><td>9      </td><td>9958275.0        </td><td>HY146732     </td><td>2015-02-08 23:15:36</td><td>001XX W WACKER DR   </td><td>460.0             </td><td>BATTERY        </td><td>SIMPLE                      </td><td>HOTEL/MOTEL           </td><td>false   </td><td>false     </td><td>122.0             </td><td>1.0               </td><td>42.0              </td><td>32.0              </td><td>nan               </td><td>1175384.0         </td><td>1902088.0         </td><td>2015.0</td><td>2015-02-15 00:43:39</td><td>41.886707818      </td><td>-87.631396356      </td><td>(41.886707818, -87.631396356)</td></tr>\n",
       "</tbody>\n",
       "</table>"
      ]
     },
     "metadata": {},
     "output_type": "display_data"
    }
   ],
   "source": [
    "column_type = ['Numeric','String','String','Enum','Enum','Enum','Enum','Enum','Enum','Enum','Numeric','Numeric','Numeric','Numeric','Enum','Numeric','Numeric','Numeric','Enum','Numeric','Numeric','Enum']\n",
    "#f_crimes = h2o.import_file(path ='/home/suyog/github/Sparkling-Water-with-Python/data/chicagoCrimes10k.csv',col_types = column_type)\n",
    "f_crimes = h2o.import_file(path =\"/home/suyog/github/Sparkling-Water-with-Python/data/chicagoCrimes10k.csv\")\n",
    "print(f_crimes.shape)\n",
    "f_crimes.summary()"
   ]
  },
  {
   "cell_type": "markdown",
   "metadata": {
    "deletable": true,
    "editable": true
   },
   "source": [
    "## 7. Look at the distribution of the IUCR column"
   ]
  },
  {
   "cell_type": "code",
   "execution_count": 33,
   "metadata": {
    "collapsed": false,
    "deletable": true,
    "editable": true
   },
   "outputs": [
    {
     "data": {
      "text/html": [
       "<table>\n",
       "<thead>\n",
       "<tr><th style=\"text-align: right;\">  IUCR</th><th style=\"text-align: right;\">  Count</th></tr>\n",
       "</thead>\n",
       "<tbody>\n",
       "<tr><td style=\"text-align: right;\">   110</td><td style=\"text-align: right;\">     16</td></tr>\n",
       "<tr><td style=\"text-align: right;\">   261</td><td style=\"text-align: right;\">      2</td></tr>\n",
       "<tr><td style=\"text-align: right;\">   263</td><td style=\"text-align: right;\">      2</td></tr>\n",
       "<tr><td style=\"text-align: right;\">   265</td><td style=\"text-align: right;\">      5</td></tr>\n",
       "<tr><td style=\"text-align: right;\">   266</td><td style=\"text-align: right;\">      2</td></tr>\n",
       "<tr><td style=\"text-align: right;\">   281</td><td style=\"text-align: right;\">     41</td></tr>\n",
       "<tr><td style=\"text-align: right;\">   291</td><td style=\"text-align: right;\">      3</td></tr>\n",
       "<tr><td style=\"text-align: right;\">   312</td><td style=\"text-align: right;\">     18</td></tr>\n",
       "<tr><td style=\"text-align: right;\">   313</td><td style=\"text-align: right;\">     20</td></tr>\n",
       "<tr><td style=\"text-align: right;\">   320</td><td style=\"text-align: right;\">    117</td></tr>\n",
       "</tbody>\n",
       "</table>"
      ]
     },
     "metadata": {},
     "output_type": "display_data"
    },
    {
     "data": {
      "text/plain": []
     },
     "execution_count": 33,
     "metadata": {},
     "output_type": "execute_result"
    }
   ],
   "source": [
    "f_crimes[\"IUCR\"].table()"
   ]
  },
  {
   "cell_type": "code",
   "execution_count": null,
   "metadata": {
    "collapsed": true
   },
   "outputs": [],
   "source": [
    "f_crimes.dtypes()"
   ]
  },
  {
   "cell_type": "markdown",
   "metadata": {
    "deletable": true,
    "editable": true
   },
   "source": [
    "## 8. Look at the distribution of the Arrest column"
   ]
  },
  {
   "cell_type": "code",
   "execution_count": 34,
   "metadata": {
    "collapsed": false,
    "deletable": true,
    "editable": true
   },
   "outputs": [
    {
     "data": {
      "text/html": [
       "<table>\n",
       "<thead>\n",
       "<tr><th>Arrest  </th><th style=\"text-align: right;\">  Count</th></tr>\n",
       "</thead>\n",
       "<tbody>\n",
       "<tr><td>false   </td><td style=\"text-align: right;\">   7071</td></tr>\n",
       "<tr><td>true    </td><td style=\"text-align: right;\">   2928</td></tr>\n",
       "</tbody>\n",
       "</table>"
      ]
     },
     "metadata": {},
     "output_type": "display_data"
    },
    {
     "data": {
      "text/plain": []
     },
     "execution_count": 34,
     "metadata": {},
     "output_type": "execute_result"
    }
   ],
   "source": [
    "f_crimes[\"Arrest\"].table()"
   ]
  },
  {
   "cell_type": "markdown",
   "metadata": {
    "collapsed": true,
    "deletable": true,
    "editable": true
   },
   "source": [
    "## 9. Modify column names to replace blank spaces with underscores"
   ]
  },
  {
   "cell_type": "code",
   "execution_count": null,
   "metadata": {
    "collapsed": true,
    "deletable": true,
    "editable": true
   },
   "outputs": [],
   "source": [
    "col_names = map(lambda s: s.replace(' ', '_'), f_crimes.col_names)\n",
    "f_crimes.set_names(col_names)"
   ]
  },
  {
   "cell_type": "markdown",
   "metadata": {
    "deletable": true,
    "editable": true
   },
   "source": [
    "## 10. Set time zone to UTC for date manipulation"
   ]
  },
  {
   "cell_type": "code",
   "execution_count": 38,
   "metadata": {
    "collapsed": false,
    "deletable": true,
    "editable": true
   },
   "outputs": [
    {
     "name": "stdout",
     "output_type": "stream",
     "text": [
      "[WARNING] in <ipython-input-38-0c99d8328dce> line 1:\n",
      "    >>> h2o.set_timezone(\"Etc/UTC\")\n",
      "        ^^^^ Deprecated, set ``h2o.cluster().timezone`` instead.\n"
     ]
    }
   ],
   "source": [
    "h2o.set_timezone(\"Etc/UTC\")"
   ]
  },
  {
   "cell_type": "markdown",
   "metadata": {
    "deletable": true,
    "editable": true
   },
   "source": [
    "## 11. Refine the date column"
   ]
  },
  {
   "cell_type": "code",
   "execution_count": null,
   "metadata": {
    "collapsed": true,
    "deletable": true,
    "editable": true
   },
   "outputs": [],
   "source": [
    "def refine_date_col(data, col, pattern):\n",
    "    data[col]         = data[col].as_date(pattern)\n",
    "    data[\"Day\"]       = data[col].day()\n",
    "    data[\"Month\"]     = data[col].month()    # Since H2O indexes from 0\n",
    "    data[\"Year\"]      = data[col].year()\n",
    "    data[\"WeekNum\"]   = data[col].week()\n",
    "    data[\"WeekDay\"]   = data[col].dayOfWeek()\n",
    "    data[\"HourOfDay\"] = data[col].hour()\n",
    "\n",
    "    # Create weekend and season cols\n",
    "    data[\"Weekend\"] = (data[\"WeekDay\"] == \"Sun\" or data[\"WeekDay\"] == \"Sat\").ifelse(1, 0)[0]\n",
    "    data[\"Season\"] = data[\"Month\"].cut([0, 2, 5, 7, 10, 12], [\"Winter\", \"Spring\", \"Summer\", \"Autumn\", \"Winter\"])\n",
    "\n",
    "refine_date_col(f_crimes, \"Date\", \"%m/%d/%Y %I:%M:%S %p\")\n",
    "f_crimes = f_crimes.drop(\"Date\")"
   ]
  },
  {
   "cell_type": "markdown",
   "metadata": {
    "deletable": true,
    "editable": true
   },
   "source": [
    "## 12. Parse Census data into H2O"
   ]
  },
  {
   "cell_type": "code",
   "execution_count": null,
   "metadata": {
    "collapsed": true,
    "deletable": true,
    "editable": true
   },
   "outputs": [],
   "source": [
    "f_census = h2o.import_file(\"/home/suyog/github/Sparkling-Water-with-Python/data/chicagoCensus.csv\",header=1)\n",
    "\n",
    "## Update column names in the table\n",
    "col_names = map(lambda s: s.strip().replace(' ', '_'), f_census.col_names)\n",
    "f_census.set_names(col_names)\n",
    "f_census = f_census[1:78,:]\n",
    "print(f_census.dim)\n",
    "#f_census.summary()"
   ]
  },
  {
   "cell_type": "markdown",
   "metadata": {
    "deletable": true,
    "editable": true
   },
   "source": [
    "## 13. Parse Weather data into H2O"
   ]
  },
  {
   "cell_type": "code",
   "execution_count": null,
   "metadata": {
    "collapsed": true,
    "deletable": true,
    "editable": true
   },
   "outputs": [],
   "source": [
    "f_weather = h2o.import_file(\"/home/suyog/github/Sparkling-Water-with-Python/data/chicagoAllWeather.csv\")\n",
    "f_weather = f_weather[1:]\n",
    "print(f_weather.dim)\n",
    "#f_weather.summary()"
   ]
  },
  {
   "cell_type": "markdown",
   "metadata": {
    "deletable": true,
    "editable": true
   },
   "source": [
    "## 14. Look at all the null entires in the Weather table"
   ]
  },
  {
   "cell_type": "code",
   "execution_count": null,
   "metadata": {
    "collapsed": true,
    "deletable": true,
    "editable": true
   },
   "outputs": [],
   "source": [
    "f_weather[f_weather[\"meanTemp\"].isna()]"
   ]
  },
  {
   "cell_type": "markdown",
   "metadata": {
    "deletable": true,
    "editable": true
   },
   "source": [
    "## 15. Look at the help on as_h2o_frame"
   ]
  },
  {
   "cell_type": "code",
   "execution_count": 49,
   "metadata": {
    "collapsed": false,
    "deletable": true,
    "editable": true
   },
   "outputs": [
    {
     "name": "stdout",
     "output_type": "stream",
     "text": [
      "\n",
      "Sparkling Water Context:\n",
      " * H2O name: sparkling-water-suyog_local-1545923950854\n",
      " * cluster size: 1\n",
      " * list of used nodes:\n",
      "  (executorId, host, port)\n",
      "  ------------------------\n",
      "  (driver,10.50.0.248,54321)\n",
      "  ------------------------\n",
      "\n",
      "  Open H2O Flow in browser: http://10.50.0.248:54321 (CMD + click in Mac OSX)\n",
      "\n",
      "    \n"
     ]
    }
   ],
   "source": [
    "hc.as_spark_frame?\n",
    "f_weather\n"
   ]
  },
  {
   "cell_type": "markdown",
   "metadata": {
    "deletable": true,
    "editable": true
   },
   "source": [
    "## 16. Copy data frames to Spark from H2O"
   ]
  },
  {
   "cell_type": "code",
   "execution_count": null,
   "metadata": {
    "collapsed": true,
    "deletable": true,
    "editable": true
   },
   "outputs": [],
   "source": [
    "df_weather = hc.as_spark_frame(f_weather,)\n",
    "df_census = hc.as_spark_frame(f_census)\n",
    "df_crimes = hc.as_spark_frame(f_crimes)"
   ]
  },
  {
   "cell_type": "markdown",
   "metadata": {
    "deletable": true,
    "editable": true
   },
   "source": [
    "## 17. Look at the weather data as parsed in Spark"
   ]
  },
  {
   "cell_type": "code",
   "execution_count": null,
   "metadata": {
    "collapsed": true,
    "deletable": true,
    "editable": true
   },
   "outputs": [],
   "source": [
    "df_weather.show(2)"
   ]
  },
  {
   "cell_type": "markdown",
   "metadata": {
    "deletable": true,
    "editable": true
   },
   "source": [
    "## 18. Join columns from Crime, Census and Weather DataFrames in Spark"
   ]
  },
  {
   "cell_type": "code",
   "execution_count": null,
   "metadata": {
    "collapsed": true,
    "deletable": true,
    "editable": true
   },
   "outputs": [],
   "source": [
    "## Register DataFrames as tables in SQL context\n",
    "sqlContext.registerDataFrameAsTable(df_weather, \"chicagoWeather\")\n",
    "sqlContext.registerDataFrameAsTable(df_census, \"chicagoCensus\")\n",
    "sqlContext.registerDataFrameAsTable(df_crimes, \"chicagoCrime\")\n",
    "\n",
    "\n",
    "crimeWithWeather = sqlContext.sql(\"\"\"SELECT\n",
    "a.Year, a.Month, a.Day, a.WeekNum, a.HourOfDay, a.Weekend, a.Season, a.WeekDay,\n",
    "a.IUCR, a.Primary_Type, a.Location_Description, a.Community_Area, a.District,\n",
    "a.Arrest, a.Domestic, a.Beat, a.Ward, a.FBI_Code,\n",
    "b.minTemp, b.maxTemp, b.meanTemp,\n",
    "c.PERCENT_AGED_UNDER_18_OR_OVER_64, c.PER_CAPITA_INCOME, c.HARDSHIP_INDEX,\n",
    "c.PERCENT_OF_HOUSING_CROWDED, c.PERCENT_HOUSEHOLDS_BELOW_POVERTY,\n",
    "c.PERCENT_AGED_16__UNEMPLOYED, c.PERCENT_AGED_25__WITHOUT_HIGH_SCHOOL_DIPLOMA\n",
    "FROM chicagoCrime a\n",
    "JOIN chicagoWeather b\n",
    "ON a.Year = b.year AND a.Month = b.month AND a.Day = b.day\n",
    "JOIN chicagoCensus c\n",
    "ON a.Community_Area = c.Community_Area_Number\"\"\")"
   ]
  },
  {
   "cell_type": "markdown",
   "metadata": {
    "deletable": true,
    "editable": true
   },
   "source": [
    "## 19. Print the crimeWithWeather data table from Spark"
   ]
  },
  {
   "cell_type": "code",
   "execution_count": null,
   "metadata": {
    "collapsed": true,
    "deletable": true,
    "editable": true
   },
   "outputs": [],
   "source": [
    "crimeWithWeather.show(2)"
   ]
  },
  {
   "cell_type": "markdown",
   "metadata": {
    "deletable": true,
    "editable": true
   },
   "source": [
    "## 20. Copy table from Spark to H2O"
   ]
  },
  {
   "cell_type": "code",
   "execution_count": null,
   "metadata": {
    "collapsed": true,
    "deletable": true,
    "editable": true
   },
   "outputs": [],
   "source": [
    "hc.as_h2o_frame?\n",
    "crimeWithWeatherHF = hc.as_h2o_frame(crimeWithWeather,framename=\"crimeWithWeather\")"
   ]
  },
  {
   "cell_type": "markdown",
   "metadata": {
    "deletable": true,
    "editable": true
   },
   "source": [
    "## 21. Assign column types to the CrimeWeatherHF data table in H2O"
   ]
  },
  {
   "cell_type": "code",
   "execution_count": null,
   "metadata": {
    "collapsed": true,
    "deletable": true,
    "editable": true
   },
   "outputs": [],
   "source": [
    "crimeWithWeatherHF[\"Season\"]= crimeWithWeatherHF[\"Season\"].asfactor()\n",
    "crimeWithWeatherHF[\"WeekDay\"]= crimeWithWeatherHF[\"WeekDay\"].asfactor()\n",
    "crimeWithWeatherHF[\"IUCR\"]= crimeWithWeatherHF[\"IUCR\"].asfactor()\n",
    "crimeWithWeatherHF[\"Primary_Type\"]= crimeWithWeatherHF[\"Primary_Type\"].asfactor()\n",
    "crimeWithWeatherHF[\"Location_Description\"]= crimeWithWeatherHF[\"Location_Description\"].asfactor()\n",
    "crimeWithWeatherHF[\"Arrest\"]= crimeWithWeatherHF[\"Arrest\"].asfactor()\n",
    "crimeWithWeatherHF[\"Domestic\"]= crimeWithWeatherHF[\"Domestic\"].asfactor()\n",
    "crimeWithWeatherHF[\"FBI_Code\"]= crimeWithWeatherHF[\"FBI_Code\"].asfactor()\n",
    "crimeWithWeatherHF[\"Season\"]= crimeWithWeatherHF[\"Season\"].asfactor()\n",
    "\n",
    "\n",
    "\n",
    "crimeWithWeatherHF.summary()"
   ]
  },
  {
   "cell_type": "markdown",
   "metadata": {
    "deletable": true,
    "editable": true
   },
   "source": [
    "## 22. Split final H2O data table into train test and validation sets"
   ]
  },
  {
   "cell_type": "code",
   "execution_count": null,
   "metadata": {
    "collapsed": true,
    "deletable": true,
    "editable": true
   },
   "outputs": [],
   "source": [
    "ratios = [0.6,0.2]\n",
    "frs = crimeWithWeatherHF.split_frame(ratios,seed=12345)\n",
    "train = frs[0]\n",
    "train.frame_id = \"Train\"\n",
    "valid = frs[2]\n",
    "valid.frame_id = \"Validation\"\n",
    "test = frs[1]\n",
    "test.frame_id = \"Test\""
   ]
  },
  {
   "cell_type": "markdown",
   "metadata": {
    "deletable": true,
    "editable": true
   },
   "source": [
    "## 23. Import Model Builders from H2O Python"
   ]
  },
  {
   "cell_type": "code",
   "execution_count": null,
   "metadata": {
    "collapsed": true,
    "deletable": true,
    "editable": true
   },
   "outputs": [],
   "source": [
    "from h2o.estimators.gbm import H2OGradientBoostingEstimator\n",
    "from h2o.estimators.deeplearning import H2ODeepLearningEstimator"
   ]
  },
  {
   "cell_type": "markdown",
   "metadata": {
    "deletable": true,
    "editable": true
   },
   "source": [
    "## 24. Inspect the availble GBM parameters"
   ]
  },
  {
   "cell_type": "code",
   "execution_count": null,
   "metadata": {
    "collapsed": true,
    "deletable": true,
    "editable": true
   },
   "outputs": [],
   "source": [
    "H2OGradientBoostingEstimator?"
   ]
  },
  {
   "cell_type": "markdown",
   "metadata": {
    "deletable": true,
    "editable": true
   },
   "source": [
    "## 25. Define Predictors"
   ]
  },
  {
   "cell_type": "code",
   "execution_count": null,
   "metadata": {
    "collapsed": true,
    "deletable": true,
    "editable": true
   },
   "outputs": [],
   "source": [
    "predictors = crimeWithWeatherHF.names[:]\n",
    "response = \"Arrest\"\n",
    "predictors.remove(response)"
   ]
  },
  {
   "cell_type": "markdown",
   "metadata": {
    "deletable": true,
    "editable": true
   },
   "source": [
    "## 26. Create a Simple GBM model to Predict Arrests"
   ]
  },
  {
   "cell_type": "code",
   "execution_count": null,
   "metadata": {
    "collapsed": true,
    "deletable": true,
    "editable": true
   },
   "outputs": [],
   "source": [
    "model_gbm = H2OGradientBoostingEstimator(ntrees         =50,\n",
    "                                        max_depth      =6,\n",
    "                                        learn_rate     =0.1, \n",
    "                                        #nfolds         =2,\n",
    "                                        distribution   =\"bernoulli\")\n",
    "\n",
    "model_gbm.train(x               =predictors,\n",
    "               y               =\"Arrest\",\n",
    "               training_frame  =train,\n",
    "               validation_frame=valid\n",
    "               )"
   ]
  },
  {
   "cell_type": "markdown",
   "metadata": {
    "deletable": true,
    "editable": true
   },
   "source": [
    "## 27. Create a Simple Deep Learning model to Predict Arrests"
   ]
  },
  {
   "cell_type": "code",
   "execution_count": null,
   "metadata": {
    "collapsed": true,
    "deletable": true,
    "editable": true
   },
   "outputs": [],
   "source": [
    "model_dl = H2ODeepLearningEstimator(variable_importances=True,\n",
    "                                   loss                =\"Automatic\")\n",
    "\n",
    "model_dl.train(x                =predictors,\n",
    "              y                =\"Arrest\",\n",
    "              training_frame  =train,\n",
    "              validation_frame=valid)"
   ]
  },
  {
   "cell_type": "markdown",
   "metadata": {
    "deletable": true,
    "editable": true
   },
   "source": [
    "## 28. Print confusion matrices for the training and validation datasets"
   ]
  },
  {
   "cell_type": "code",
   "execution_count": null,
   "metadata": {
    "collapsed": true,
    "deletable": true,
    "editable": true
   },
   "outputs": [],
   "source": [
    "print(model_gbm.confusion_matrix(train = True))\n",
    "print(model_gbm.confusion_matrix(valid = True))"
   ]
  },
  {
   "cell_type": "code",
   "execution_count": null,
   "metadata": {
    "collapsed": true,
    "deletable": true,
    "editable": true
   },
   "outputs": [],
   "source": [
    "print(model_gbm.auc(train=True))\n",
    "print(model_gbm.auc(valid=True))\n",
    "model_gbm.plot(metric=\"AUC\")"
   ]
  },
  {
   "cell_type": "markdown",
   "metadata": {
    "deletable": true,
    "editable": true
   },
   "source": [
    "## 29. Print variable importances"
   ]
  },
  {
   "cell_type": "code",
   "execution_count": null,
   "metadata": {
    "collapsed": true,
    "deletable": true,
    "editable": true
   },
   "outputs": [],
   "source": [
    "model_gbm.varimp(True)"
   ]
  },
  {
   "cell_type": "markdown",
   "metadata": {
    "deletable": true,
    "editable": true
   },
   "source": [
    "## 30. Inspect Deep Learning model output"
   ]
  },
  {
   "cell_type": "code",
   "execution_count": null,
   "metadata": {
    "collapsed": true,
    "deletable": true,
    "editable": true
   },
   "outputs": [],
   "source": [
    "model_dl"
   ]
  },
  {
   "cell_type": "markdown",
   "metadata": {
    "deletable": true,
    "editable": true
   },
   "source": [
    "## 31. Predict on the test set using the GBM model"
   ]
  },
  {
   "cell_type": "code",
   "execution_count": null,
   "metadata": {
    "collapsed": true,
    "deletable": true,
    "editable": true
   },
   "outputs": [],
   "source": [
    "predictions = model_gbm.predict(test)\n",
    "predictions.show()"
   ]
  },
  {
   "cell_type": "markdown",
   "metadata": {
    "deletable": true,
    "editable": true
   },
   "source": [
    "## 32. Look at test set performance (if it includes true labels)"
   ]
  },
  {
   "cell_type": "code",
   "execution_count": null,
   "metadata": {
    "collapsed": true,
    "deletable": true,
    "editable": true
   },
   "outputs": [],
   "source": [
    "test_performance = model_gbm.model_performance(test)\n",
    "test_performance"
   ]
  },
  {
   "cell_type": "markdown",
   "metadata": {
    "deletable": true,
    "editable": true
   },
   "source": [
    "http://docs.h2o.ai/h2o-tutorials/latest-stable/tutorials/pysparkling/Chicago_Crime_Demo.html"
   ]
  }
 ],
 "metadata": {
  "kernelspec": {
   "display_name": "Python 3",
   "language": "python",
   "name": "python3"
  },
  "language_info": {
   "codemirror_mode": {
    "name": "ipython",
    "version": 3
   },
   "file_extension": ".py",
   "mimetype": "text/x-python",
   "name": "python",
   "nbconvert_exporter": "python",
   "pygments_lexer": "ipython3",
   "version": "3.5.4"
  }
 },
 "nbformat": 4,
 "nbformat_minor": 2
}
