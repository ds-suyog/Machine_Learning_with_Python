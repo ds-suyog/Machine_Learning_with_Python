{
 "cells": [
  {
   "cell_type": "code",
   "execution_count": 2,
   "metadata": {
    "collapsed": true
   },
   "outputs": [],
   "source": [
    "import pandas as pd\n",
    "import sys\n",
    "import numpy as np\n",
    "import scipy as sp\n",
    "import matplotlib\n",
    "import matplotlib.pyplot as plt\n",
    "import seaborn as sns\n",
    "import sklearn as sk\n",
    "from sklearn.model_selection import train_test_split\n",
    "from sklearn.ensemble import GradientBoostingClassifier"
   ]
  },
  {
   "cell_type": "markdown",
   "metadata": {},
   "source": [
    "dataset used is spam email dataset from the HP Lab to predict if an email is spam. The dataset contains 4601 email items, of which 1813 items were identified as spam"
   ]
  },
  {
   "cell_type": "markdown",
   "metadata": {},
   "source": [
    "#### For starters, moving on without feature engineering\n",
    "\n",
    "### The dataset contains the following features:\n",
    "#### crl.tot\n",
    "total length of words in capitals\n",
    "\n",
    "#### dollar\n",
    "number of occurrences of the \\$ symbol\n",
    "\n",
    "#### bang\n",
    "number of occurrences of the ! symbol\n",
    "\n",
    "#### money\n",
    "number of occurrences of the word ‘money’\n",
    "\n",
    "#### n000\n",
    "number of occurrences of the string ‘000’\n",
    "\n",
    "#### make\n",
    "number of occurrences of the word ‘make’\n",
    "\n",
    "#### yesno\n",
    "outcome variable, a factor with levels n not spam, y spam"
   ]
  },
  {
   "cell_type": "markdown",
   "metadata": {},
   "source": [
    "### Importing dataset and summary statistic"
   ]
  },
  {
   "cell_type": "code",
   "execution_count": 3,
   "metadata": {},
   "outputs": [
    {
     "data": {
      "text/html": [
       "<div>\n",
       "<style scoped>\n",
       "    .dataframe tbody tr th:only-of-type {\n",
       "        vertical-align: middle;\n",
       "    }\n",
       "\n",
       "    .dataframe tbody tr th {\n",
       "        vertical-align: top;\n",
       "    }\n",
       "\n",
       "    .dataframe thead th {\n",
       "        text-align: right;\n",
       "    }\n",
       "</style>\n",
       "<table border=\"1\" class=\"dataframe\">\n",
       "  <thead>\n",
       "    <tr style=\"text-align: right;\">\n",
       "      <th></th>\n",
       "      <th>crl.tot</th>\n",
       "      <th>dollar</th>\n",
       "      <th>bang</th>\n",
       "      <th>money</th>\n",
       "      <th>n000</th>\n",
       "      <th>make</th>\n",
       "      <th>spam</th>\n",
       "    </tr>\n",
       "  </thead>\n",
       "  <tbody>\n",
       "    <tr>\n",
       "      <th>0</th>\n",
       "      <td>278</td>\n",
       "      <td>0.000</td>\n",
       "      <td>0.778</td>\n",
       "      <td>0.00</td>\n",
       "      <td>0.00</td>\n",
       "      <td>0.00</td>\n",
       "      <td>1</td>\n",
       "    </tr>\n",
       "    <tr>\n",
       "      <th>1</th>\n",
       "      <td>1028</td>\n",
       "      <td>0.180</td>\n",
       "      <td>0.372</td>\n",
       "      <td>0.43</td>\n",
       "      <td>0.43</td>\n",
       "      <td>0.21</td>\n",
       "      <td>1</td>\n",
       "    </tr>\n",
       "    <tr>\n",
       "      <th>2</th>\n",
       "      <td>2259</td>\n",
       "      <td>0.184</td>\n",
       "      <td>0.276</td>\n",
       "      <td>0.06</td>\n",
       "      <td>1.16</td>\n",
       "      <td>0.06</td>\n",
       "      <td>1</td>\n",
       "    </tr>\n",
       "    <tr>\n",
       "      <th>3</th>\n",
       "      <td>191</td>\n",
       "      <td>0.000</td>\n",
       "      <td>0.137</td>\n",
       "      <td>0.00</td>\n",
       "      <td>0.00</td>\n",
       "      <td>0.00</td>\n",
       "      <td>1</td>\n",
       "    </tr>\n",
       "    <tr>\n",
       "      <th>4</th>\n",
       "      <td>191</td>\n",
       "      <td>0.000</td>\n",
       "      <td>0.135</td>\n",
       "      <td>0.00</td>\n",
       "      <td>0.00</td>\n",
       "      <td>0.00</td>\n",
       "      <td>1</td>\n",
       "    </tr>\n",
       "  </tbody>\n",
       "</table>\n",
       "</div>"
      ],
      "text/plain": [
       "   crl.tot  dollar   bang  money  n000  make  spam\n",
       "0      278   0.000  0.778   0.00  0.00  0.00     1\n",
       "1     1028   0.180  0.372   0.43  0.43  0.21     1\n",
       "2     2259   0.184  0.276   0.06  1.16  0.06     1\n",
       "3      191   0.000  0.137   0.00  0.00  0.00     1\n",
       "4      191   0.000  0.135   0.00  0.00  0.00     1"
      ]
     },
     "execution_count": 3,
     "metadata": {},
     "output_type": "execute_result"
    }
   ],
   "source": [
    "ds=pd.read_csv('https://raw.githubusercontent.com/vincentarelbundock/Rdatasets/master/csv/DAAG/spam7.csv')\n",
    "ds['spam'] = ds['yesno'].map({'y': 1, 'n': 0})\n",
    "ds = ds.drop(['Unnamed: 0','yesno',], axis=1)\n",
    "\n",
    "ds.head()"
   ]
  },
  {
   "cell_type": "code",
   "execution_count": 4,
   "metadata": {},
   "outputs": [
    {
     "data": {
      "text/plain": [
       "crl.tot    283.289285\n",
       "dollar       0.075811\n",
       "bang         0.269071\n",
       "money        0.094269\n",
       "n000         0.101645\n",
       "make         0.104553\n",
       "spam         0.394045\n",
       "dtype: float64"
      ]
     },
     "execution_count": 4,
     "metadata": {},
     "output_type": "execute_result"
    }
   ],
   "source": [
    "ds.mean()"
   ]
  },
  {
   "cell_type": "markdown",
   "metadata": {},
   "source": [
    "The descriptive statistics below give a first idea on which features are correlated with spam emails. Everything related to money (dollar, money, n000) is strongly correlated with spam. Spammers use more words in capitals and the word \"make\" as well as exclamation points more frequently."
   ]
  },
  {
   "cell_type": "code",
   "execution_count": 5,
   "metadata": {},
   "outputs": [
    {
     "data": {
      "text/html": [
       "<div>\n",
       "<style scoped>\n",
       "    .dataframe tbody tr th:only-of-type {\n",
       "        vertical-align: middle;\n",
       "    }\n",
       "\n",
       "    .dataframe tbody tr th {\n",
       "        vertical-align: top;\n",
       "    }\n",
       "\n",
       "    .dataframe thead th {\n",
       "        text-align: right;\n",
       "    }\n",
       "</style>\n",
       "<table border=\"1\" class=\"dataframe\">\n",
       "  <thead>\n",
       "    <tr style=\"text-align: right;\">\n",
       "      <th></th>\n",
       "      <th>crl.tot</th>\n",
       "      <th>dollar</th>\n",
       "      <th>bang</th>\n",
       "      <th>money</th>\n",
       "      <th>n000</th>\n",
       "      <th>make</th>\n",
       "    </tr>\n",
       "    <tr>\n",
       "      <th>spam</th>\n",
       "      <th></th>\n",
       "      <th></th>\n",
       "      <th></th>\n",
       "      <th></th>\n",
       "      <th></th>\n",
       "      <th></th>\n",
       "    </tr>\n",
       "  </thead>\n",
       "  <tbody>\n",
       "    <tr>\n",
       "      <th>0</th>\n",
       "      <td>161.470947</td>\n",
       "      <td>0.011648</td>\n",
       "      <td>0.109984</td>\n",
       "      <td>0.017138</td>\n",
       "      <td>0.007088</td>\n",
       "      <td>0.073479</td>\n",
       "    </tr>\n",
       "    <tr>\n",
       "      <th>1</th>\n",
       "      <td>470.619415</td>\n",
       "      <td>0.174478</td>\n",
       "      <td>0.513713</td>\n",
       "      <td>0.212879</td>\n",
       "      <td>0.247055</td>\n",
       "      <td>0.152339</td>\n",
       "    </tr>\n",
       "  </tbody>\n",
       "</table>\n",
       "</div>"
      ],
      "text/plain": [
       "         crl.tot    dollar      bang     money      n000      make\n",
       "spam                                                              \n",
       "0     161.470947  0.011648  0.109984  0.017138  0.007088  0.073479\n",
       "1     470.619415  0.174478  0.513713  0.212879  0.247055  0.152339"
      ]
     },
     "execution_count": 5,
     "metadata": {},
     "output_type": "execute_result"
    }
   ],
   "source": [
    "ds.groupby(['spam']).mean()"
   ]
  },
  {
   "cell_type": "code",
   "execution_count": 6,
   "metadata": {},
   "outputs": [
    {
     "data": {
      "image/png": "[encoded data removed]",
      "text/plain": [
       "<Figure size 432x288 with 2 Axes>"
      ]
     },
     "metadata": {},
     "output_type": "display_data"
    },
    {
     "data": {
      "text/html": [
       "<div>\n",
       "<style scoped>\n",
       "    .dataframe tbody tr th:only-of-type {\n",
       "        vertical-align: middle;\n",
       "    }\n",
       "\n",
       "    .dataframe tbody tr th {\n",
       "        vertical-align: top;\n",
       "    }\n",
       "\n",
       "    .dataframe thead th {\n",
       "        text-align: right;\n",
       "    }\n",
       "</style>\n",
       "<table border=\"1\" class=\"dataframe\">\n",
       "  <thead>\n",
       "    <tr style=\"text-align: right;\">\n",
       "      <th></th>\n",
       "      <th>crl.tot</th>\n",
       "      <th>dollar</th>\n",
       "      <th>bang</th>\n",
       "      <th>money</th>\n",
       "      <th>n000</th>\n",
       "      <th>make</th>\n",
       "      <th>spam</th>\n",
       "    </tr>\n",
       "  </thead>\n",
       "  <tbody>\n",
       "    <tr>\n",
       "      <th>crl.tot</th>\n",
       "      <td>1.000000</td>\n",
       "      <td>0.201948</td>\n",
       "      <td>0.036321</td>\n",
       "      <td>0.080993</td>\n",
       "      <td>0.165977</td>\n",
       "      <td>0.089165</td>\n",
       "      <td>0.249164</td>\n",
       "    </tr>\n",
       "    <tr>\n",
       "      <th>dollar</th>\n",
       "      <td>0.201948</td>\n",
       "      <td>1.000000</td>\n",
       "      <td>0.142913</td>\n",
       "      <td>0.104691</td>\n",
       "      <td>0.310971</td>\n",
       "      <td>0.117419</td>\n",
       "      <td>0.323629</td>\n",
       "    </tr>\n",
       "    <tr>\n",
       "      <th>bang</th>\n",
       "      <td>0.036321</td>\n",
       "      <td>0.142913</td>\n",
       "      <td>1.000000</td>\n",
       "      <td>0.051076</td>\n",
       "      <td>0.070103</td>\n",
       "      <td>0.058292</td>\n",
       "      <td>0.241888</td>\n",
       "    </tr>\n",
       "    <tr>\n",
       "      <th>money</th>\n",
       "      <td>0.080993</td>\n",
       "      <td>0.104691</td>\n",
       "      <td>0.051076</td>\n",
       "      <td>1.000000</td>\n",
       "      <td>0.052587</td>\n",
       "      <td>0.188155</td>\n",
       "      <td>0.216111</td>\n",
       "    </tr>\n",
       "    <tr>\n",
       "      <th>n000</th>\n",
       "      <td>0.165977</td>\n",
       "      <td>0.310971</td>\n",
       "      <td>0.070103</td>\n",
       "      <td>0.052587</td>\n",
       "      <td>1.000000</td>\n",
       "      <td>0.134072</td>\n",
       "      <td>0.334787</td>\n",
       "    </tr>\n",
       "    <tr>\n",
       "      <th>make</th>\n",
       "      <td>0.089165</td>\n",
       "      <td>0.117419</td>\n",
       "      <td>0.058292</td>\n",
       "      <td>0.188155</td>\n",
       "      <td>0.134072</td>\n",
       "      <td>1.000000</td>\n",
       "      <td>0.126208</td>\n",
       "    </tr>\n",
       "    <tr>\n",
       "      <th>spam</th>\n",
       "      <td>0.249164</td>\n",
       "      <td>0.323629</td>\n",
       "      <td>0.241888</td>\n",
       "      <td>0.216111</td>\n",
       "      <td>0.334787</td>\n",
       "      <td>0.126208</td>\n",
       "      <td>1.000000</td>\n",
       "    </tr>\n",
       "  </tbody>\n",
       "</table>\n",
       "</div>"
      ],
      "text/plain": [
       "          crl.tot    dollar      bang     money      n000      make      spam\n",
       "crl.tot  1.000000  0.201948  0.036321  0.080993  0.165977  0.089165  0.249164\n",
       "dollar   0.201948  1.000000  0.142913  0.104691  0.310971  0.117419  0.323629\n",
       "bang     0.036321  0.142913  1.000000  0.051076  0.070103  0.058292  0.241888\n",
       "money    0.080993  0.104691  0.051076  1.000000  0.052587  0.188155  0.216111\n",
       "n000     0.165977  0.310971  0.070103  0.052587  1.000000  0.134072  0.334787\n",
       "make     0.089165  0.117419  0.058292  0.188155  0.134072  1.000000  0.126208\n",
       "spam     0.249164  0.323629  0.241888  0.216111  0.334787  0.126208  1.000000"
      ]
     },
     "execution_count": 6,
     "metadata": {},
     "output_type": "execute_result"
    }
   ],
   "source": [
    "correlations = ds.corr()\n",
    "fig = plt.figure()\n",
    "ax = fig.add_subplot(111)\n",
    "cax = ax.matshow(correlations, vmin=-1, vmax=1)\n",
    "fig.colorbar(cax)\n",
    "names = ['']+list(ds)\n",
    "ax.set_xticklabels(names)\n",
    "ax.set_yticklabels(names)\n",
    "plt.show()\n",
    "correlations"
   ]
  },
  {
   "cell_type": "markdown",
   "metadata": {
    "collapsed": true
   },
   "source": [
    "### Set Y and X space, generate interaction terms, split dataset in train and test\n",
    "We expand the feature space by creating interaction terms. (Patsy is a great scikit-learn tool to create many interaction terms with one line of code)"
   ]
  },
  {
   "cell_type": "code",
   "execution_count": 8,
   "metadata": {
    "collapsed": true
   },
   "outputs": [],
   "source": [
    "y =ds.spam\n",
    "df= ds.loc[:, ds.columns != 'spam']"
   ]
  },
  {
   "cell_type": "code",
   "execution_count": 10,
   "metadata": {},
   "outputs": [
    {
     "data": {
      "text/html": [
       "<div>\n",
       "<style scoped>\n",
       "    .dataframe tbody tr th:only-of-type {\n",
       "        vertical-align: middle;\n",
       "    }\n",
       "\n",
       "    .dataframe tbody tr th {\n",
       "        vertical-align: top;\n",
       "    }\n",
       "\n",
       "    .dataframe thead th {\n",
       "        text-align: right;\n",
       "    }\n",
       "</style>\n",
       "<table border=\"1\" class=\"dataframe\">\n",
       "  <thead>\n",
       "    <tr style=\"text-align: right;\">\n",
       "      <th></th>\n",
       "      <th>crl.tot</th>\n",
       "      <th>dollar</th>\n",
       "      <th>bang</th>\n",
       "      <th>money</th>\n",
       "      <th>n000</th>\n",
       "      <th>make</th>\n",
       "      <th>bang_crl</th>\n",
       "      <th>bang_make</th>\n",
       "      <th>bang_money</th>\n",
       "      <th>bang_n000</th>\n",
       "      <th>...</th>\n",
       "      <th>dollar_crl</th>\n",
       "      <th>dollar_make</th>\n",
       "      <th>dollar_money</th>\n",
       "      <th>dollar_n000</th>\n",
       "      <th>make_crl</th>\n",
       "      <th>money_crl</th>\n",
       "      <th>money_make</th>\n",
       "      <th>money_n000</th>\n",
       "      <th>n000_crl</th>\n",
       "      <th>n000_make</th>\n",
       "    </tr>\n",
       "  </thead>\n",
       "  <tbody>\n",
       "    <tr>\n",
       "      <th>0</th>\n",
       "      <td>278</td>\n",
       "      <td>0.000</td>\n",
       "      <td>0.778</td>\n",
       "      <td>0.00</td>\n",
       "      <td>0.00</td>\n",
       "      <td>0.00</td>\n",
       "      <td>216.284</td>\n",
       "      <td>0.00000</td>\n",
       "      <td>0.00000</td>\n",
       "      <td>0.00000</td>\n",
       "      <td>...</td>\n",
       "      <td>0.000</td>\n",
       "      <td>0.00000</td>\n",
       "      <td>0.00000</td>\n",
       "      <td>0.00000</td>\n",
       "      <td>0.00</td>\n",
       "      <td>0.00</td>\n",
       "      <td>0.0000</td>\n",
       "      <td>0.0000</td>\n",
       "      <td>0.00</td>\n",
       "      <td>0.0000</td>\n",
       "    </tr>\n",
       "    <tr>\n",
       "      <th>1</th>\n",
       "      <td>1028</td>\n",
       "      <td>0.180</td>\n",
       "      <td>0.372</td>\n",
       "      <td>0.43</td>\n",
       "      <td>0.43</td>\n",
       "      <td>0.21</td>\n",
       "      <td>382.416</td>\n",
       "      <td>0.07812</td>\n",
       "      <td>0.15996</td>\n",
       "      <td>0.15996</td>\n",
       "      <td>...</td>\n",
       "      <td>185.040</td>\n",
       "      <td>0.03780</td>\n",
       "      <td>0.07740</td>\n",
       "      <td>0.07740</td>\n",
       "      <td>215.88</td>\n",
       "      <td>442.04</td>\n",
       "      <td>0.0903</td>\n",
       "      <td>0.1849</td>\n",
       "      <td>442.04</td>\n",
       "      <td>0.0903</td>\n",
       "    </tr>\n",
       "    <tr>\n",
       "      <th>2</th>\n",
       "      <td>2259</td>\n",
       "      <td>0.184</td>\n",
       "      <td>0.276</td>\n",
       "      <td>0.06</td>\n",
       "      <td>1.16</td>\n",
       "      <td>0.06</td>\n",
       "      <td>623.484</td>\n",
       "      <td>0.01656</td>\n",
       "      <td>0.01656</td>\n",
       "      <td>0.32016</td>\n",
       "      <td>...</td>\n",
       "      <td>415.656</td>\n",
       "      <td>0.01104</td>\n",
       "      <td>0.01104</td>\n",
       "      <td>0.21344</td>\n",
       "      <td>135.54</td>\n",
       "      <td>135.54</td>\n",
       "      <td>0.0036</td>\n",
       "      <td>0.0696</td>\n",
       "      <td>2620.44</td>\n",
       "      <td>0.0696</td>\n",
       "    </tr>\n",
       "    <tr>\n",
       "      <th>3</th>\n",
       "      <td>191</td>\n",
       "      <td>0.000</td>\n",
       "      <td>0.137</td>\n",
       "      <td>0.00</td>\n",
       "      <td>0.00</td>\n",
       "      <td>0.00</td>\n",
       "      <td>26.167</td>\n",
       "      <td>0.00000</td>\n",
       "      <td>0.00000</td>\n",
       "      <td>0.00000</td>\n",
       "      <td>...</td>\n",
       "      <td>0.000</td>\n",
       "      <td>0.00000</td>\n",
       "      <td>0.00000</td>\n",
       "      <td>0.00000</td>\n",
       "      <td>0.00</td>\n",
       "      <td>0.00</td>\n",
       "      <td>0.0000</td>\n",
       "      <td>0.0000</td>\n",
       "      <td>0.00</td>\n",
       "      <td>0.0000</td>\n",
       "    </tr>\n",
       "    <tr>\n",
       "      <th>4</th>\n",
       "      <td>191</td>\n",
       "      <td>0.000</td>\n",
       "      <td>0.135</td>\n",
       "      <td>0.00</td>\n",
       "      <td>0.00</td>\n",
       "      <td>0.00</td>\n",
       "      <td>25.785</td>\n",
       "      <td>0.00000</td>\n",
       "      <td>0.00000</td>\n",
       "      <td>0.00000</td>\n",
       "      <td>...</td>\n",
       "      <td>0.000</td>\n",
       "      <td>0.00000</td>\n",
       "      <td>0.00000</td>\n",
       "      <td>0.00000</td>\n",
       "      <td>0.00</td>\n",
       "      <td>0.00</td>\n",
       "      <td>0.0000</td>\n",
       "      <td>0.0000</td>\n",
       "      <td>0.00</td>\n",
       "      <td>0.0000</td>\n",
       "    </tr>\n",
       "  </tbody>\n",
       "</table>\n",
       "<p>5 rows × 21 columns</p>\n",
       "</div>"
      ],
      "text/plain": [
       "   crl.tot  dollar   bang  money  n000  make  bang_crl  bang_make  bang_money  \\\n",
       "0      278   0.000  0.778   0.00  0.00  0.00   216.284    0.00000     0.00000   \n",
       "1     1028   0.180  0.372   0.43  0.43  0.21   382.416    0.07812     0.15996   \n",
       "2     2259   0.184  0.276   0.06  1.16  0.06   623.484    0.01656     0.01656   \n",
       "3      191   0.000  0.137   0.00  0.00  0.00    26.167    0.00000     0.00000   \n",
       "4      191   0.000  0.135   0.00  0.00  0.00    25.785    0.00000     0.00000   \n",
       "\n",
       "   bang_n000    ...      dollar_crl  dollar_make  dollar_money  dollar_n000  \\\n",
       "0    0.00000    ...           0.000      0.00000       0.00000      0.00000   \n",
       "1    0.15996    ...         185.040      0.03780       0.07740      0.07740   \n",
       "2    0.32016    ...         415.656      0.01104       0.01104      0.21344   \n",
       "3    0.00000    ...           0.000      0.00000       0.00000      0.00000   \n",
       "4    0.00000    ...           0.000      0.00000       0.00000      0.00000   \n",
       "\n",
       "   make_crl  money_crl  money_make  money_n000  n000_crl  n000_make  \n",
       "0      0.00       0.00      0.0000      0.0000      0.00     0.0000  \n",
       "1    215.88     442.04      0.0903      0.1849    442.04     0.0903  \n",
       "2    135.54     135.54      0.0036      0.0696   2620.44     0.0696  \n",
       "3      0.00       0.00      0.0000      0.0000      0.00     0.0000  \n",
       "4      0.00       0.00      0.0000      0.0000      0.00     0.0000  \n",
       "\n",
       "[5 rows x 21 columns]"
      ]
     },
     "execution_count": 10,
     "metadata": {},
     "output_type": "execute_result"
    }
   ],
   "source": [
    "#add features by generating interaction terms\n",
    "dollar_bang=df['dollar']*df['bang']\n",
    "dollar_money=df['dollar']*df['money']\n",
    "dollar_n000=df['dollar']*df['n000']\n",
    "dollar_make=df['dollar']*df['make']\n",
    "dollar_crl=df['dollar']*df['crl.tot']\n",
    "\n",
    "bang_money=df['bang']*df['money']\n",
    "bang_n000=df['bang']*df['n000']\n",
    "bang_make=df['bang']*df['make']\n",
    "bang_crl=df['bang']*df['crl.tot']\n",
    "\n",
    "money_n000=df['money']*df['n000']\n",
    "money_make=df['money']*df['make']\n",
    "money_crl=df['money']*df['crl.tot']\n",
    "\n",
    "n000_make=df['n000']*df['make']\n",
    "n000_crl=df['n000']*df['crl.tot']\n",
    "\n",
    "make_crl=df['make']*df['crl.tot']\n",
    "\n",
    "\n",
    "df=df.assign(dollar_bank=dollar_bang,dollar_money=dollar_money,dollar_n000=dollar_n000,dollar_make=dollar_make,dollar_crl=dollar_crl,bang_money=bang_money, bang_n000=bang_n000,bang_make=bang_make,bang_crl=bang_crl,money_n000=money_n000,money_make=money_make,money_crl=money_crl,n000_make=n000_make,n000_crl=n000_crl,make_crl=make_crl)       \n",
    "\n",
    "df.head()"
   ]
  },
  {
   "cell_type": "markdown",
   "metadata": {},
   "source": [
    "#### Split dataset into train and test set."
   ]
  },
  {
   "cell_type": "code",
   "execution_count": 11,
   "metadata": {
    "collapsed": true
   },
   "outputs": [],
   "source": [
    "X_train, X_test, y_train, y_test = train_test_split(df, y, test_size=0.2)"
   ]
  },
  {
   "cell_type": "markdown",
   "metadata": {},
   "source": [
    "## Run a baseline model without tuning\n",
    "\n",
    "I use the following baseline scikit-learn library settings.\n",
    "\n",
    "#### Tree specific parameters\n",
    "n_estimators=100 (number of trees)  \n",
    "max_depth=3  \n",
    "min_samples_split=2  \n",
    "min_samples_leaf=1  \n",
    "subsample=1.0  \n",
    "\n",
    "#### Other Parameters\n",
    "learning_rate=0.1 (shrinkage)  \n",
    "subsample: 1\n"
   ]
  },
  {
   "cell_type": "code",
   "execution_count": 33,
   "metadata": {},
   "outputs": [
    {
     "name": "stdout",
     "output_type": "stream",
     "text": [
      "Accuracy of the GBM on test set: 0.872\n",
      "             precision    recall  f1-score   support\n",
      "\n",
      "          0       0.86      0.95      0.90       569\n",
      "          1       0.91      0.74      0.82       352\n",
      "\n",
      "avg / total       0.88      0.87      0.87       921\n",
      "\n"
     ]
    },
    {
     "data": {
      "image/png": "[encoded data removed]",
      "text/plain": [
       "<Figure size 432x288 with 1 Axes>"
      ]
     },
     "metadata": {},
     "output_type": "display_data"
    }
   ],
   "source": [
    "from sklearn.ensemble import GradientBoostingClassifier\n",
    "from sklearn.metrics import classification_report\n",
    "from sklearn.grid_search import GridSearchCV\n",
    "\n",
    "baseline = GradientBoostingClassifier(learning_rate=0.1, n_estimators=100,max_depth=3, min_samples_split=2, min_samples_leaf=1, subsample=1,max_features='sqrt', random_state=10)\n",
    "baseline.fit(X_train,y_train)\n",
    "predictors=list(X_train)\n",
    "feat_imp = pd.Series(baseline.feature_importances_, predictors).sort_values(ascending=False)\n",
    "feat_imp.plot(kind='bar', title='Importance of Features')\n",
    "plt.ylabel('Feature Importance Score')\n",
    "print('Accuracy of the GBM on test set: {:.3f}'.format(baseline.score(X_test, y_test)))\n",
    "pred=baseline.predict(X_test)\n",
    "print(classification_report(y_test, pred))\n",
    "plt.show()"
   ]
  },
  {
   "cell_type": "markdown",
   "metadata": {
    "collapsed": true
   },
   "source": [
    "The plot displays the importance of the feature: The number of words in capital and bang seem to have the highest predictive power.\n",
    "\n",
    "With this first model, we obtain a rate of 0.90 of true positives (positive meaning spam) and 0.87 true negatives and an accuracy of 0.88.\n"
   ]
  },
  {
   "cell_type": "markdown",
   "metadata": {},
   "source": [
    "### Tuning parameters\n",
    "\n",
    "Many strategies exist on how to tune parameters. See for example this blog post on Machine Learning Mastery for some guidance from academic papers. Most data scientist see number of trees, tree depth and the learning rate as most crucial parameters."
   ]
  },
  {
   "cell_type": "markdown",
   "metadata": {},
   "source": [
    "Hence, we will start off with these three and then move to other tree-specific parameters and the subsamples. I will use 5-fold cross validation and evaluate models based on accuracy. You may also consider to evaluate the model based on a different measure such as roc_auc."
   ]
  },
  {
   "cell_type": "markdown",
   "metadata": {},
   "source": [
    "#### Tuning n_estimators and Learning rate\n",
    "\n",
    "n_estimators captures the number of trees that we add to the model. A high number of trees can be computationally expensive. Generally, with a change in learning rate,n_estimators should also be adjusted (10-fold decrease in learning_rate should go in line with a approx. 10-fold increase in n_estimators.\n"
   ]
  },
  {
   "cell_type": "code",
   "execution_count": 34,
   "metadata": {},
   "outputs": [
    {
     "data": {
      "text/plain": [
       "([mean: 0.88125, std: 0.00872, params: {'learning_rate': 0.15, 'n_estimators': 100},\n",
       "  mean: 0.87907, std: 0.00972, params: {'learning_rate': 0.15, 'n_estimators': 250},\n",
       "  mean: 0.87690, std: 0.00983, params: {'learning_rate': 0.15, 'n_estimators': 500},\n",
       "  mean: 0.87554, std: 0.00951, params: {'learning_rate': 0.15, 'n_estimators': 750},\n",
       "  mean: 0.87255, std: 0.00780, params: {'learning_rate': 0.15, 'n_estimators': 1000},\n",
       "  mean: 0.87065, std: 0.00726, params: {'learning_rate': 0.15, 'n_estimators': 1250},\n",
       "  mean: 0.86848, std: 0.00724, params: {'learning_rate': 0.15, 'n_estimators': 1500},\n",
       "  mean: 0.86984, std: 0.00697, params: {'learning_rate': 0.15, 'n_estimators': 1750},\n",
       "  mean: 0.88287, std: 0.01440, params: {'learning_rate': 0.1, 'n_estimators': 100},\n",
       "  mean: 0.88315, std: 0.01118, params: {'learning_rate': 0.1, 'n_estimators': 250},\n",
       "  mean: 0.88260, std: 0.00901, params: {'learning_rate': 0.1, 'n_estimators': 500},\n",
       "  mean: 0.87744, std: 0.00972, params: {'learning_rate': 0.1, 'n_estimators': 750},\n",
       "  mean: 0.87636, std: 0.00659, params: {'learning_rate': 0.1, 'n_estimators': 1000},\n",
       "  mean: 0.87500, std: 0.00727, params: {'learning_rate': 0.1, 'n_estimators': 1250},\n",
       "  mean: 0.87228, std: 0.00912, params: {'learning_rate': 0.1, 'n_estimators': 1500},\n",
       "  mean: 0.86984, std: 0.01034, params: {'learning_rate': 0.1, 'n_estimators': 1750},\n",
       "  mean: 0.88342, std: 0.01482, params: {'learning_rate': 0.05, 'n_estimators': 100},\n",
       "  mean: 0.88151, std: 0.01627, params: {'learning_rate': 0.05, 'n_estimators': 250},\n",
       "  mean: 0.88233, std: 0.00980, params: {'learning_rate': 0.05, 'n_estimators': 500},\n",
       "  mean: 0.88098, std: 0.01011, params: {'learning_rate': 0.05, 'n_estimators': 750},\n",
       "  mean: 0.88016, std: 0.01117, params: {'learning_rate': 0.05, 'n_estimators': 1000},\n",
       "  mean: 0.88098, std: 0.00913, params: {'learning_rate': 0.05, 'n_estimators': 1250},\n",
       "  mean: 0.87799, std: 0.01005, params: {'learning_rate': 0.05, 'n_estimators': 1500},\n",
       "  mean: 0.87636, std: 0.00921, params: {'learning_rate': 0.05, 'n_estimators': 1750},\n",
       "  mean: 0.88097, std: 0.01006, params: {'learning_rate': 0.01, 'n_estimators': 100},\n",
       "  mean: 0.88097, std: 0.01338, params: {'learning_rate': 0.01, 'n_estimators': 250},\n",
       "  mean: 0.88179, std: 0.01371, params: {'learning_rate': 0.01, 'n_estimators': 500},\n",
       "  mean: 0.88396, std: 0.01515, params: {'learning_rate': 0.01, 'n_estimators': 750},\n",
       "  mean: 0.88233, std: 0.01624, params: {'learning_rate': 0.01, 'n_estimators': 1000},\n",
       "  mean: 0.88260, std: 0.01738, params: {'learning_rate': 0.01, 'n_estimators': 1250},\n",
       "  mean: 0.88260, std: 0.01440, params: {'learning_rate': 0.01, 'n_estimators': 1500},\n",
       "  mean: 0.88206, std: 0.01374, params: {'learning_rate': 0.01, 'n_estimators': 1750},\n",
       "  mean: 0.85597, std: 0.01258, params: {'learning_rate': 0.005, 'n_estimators': 100},\n",
       "  mean: 0.88125, std: 0.01172, params: {'learning_rate': 0.005, 'n_estimators': 250},\n",
       "  mean: 0.88070, std: 0.01491, params: {'learning_rate': 0.005, 'n_estimators': 500},\n",
       "  mean: 0.88152, std: 0.01315, params: {'learning_rate': 0.005, 'n_estimators': 750},\n",
       "  mean: 0.88152, std: 0.01234, params: {'learning_rate': 0.005, 'n_estimators': 1000},\n",
       "  mean: 0.88369, std: 0.01360, params: {'learning_rate': 0.005, 'n_estimators': 1250},\n",
       "  mean: 0.88287, std: 0.01522, params: {'learning_rate': 0.005, 'n_estimators': 1500},\n",
       "  mean: 0.88314, std: 0.01524, params: {'learning_rate': 0.005, 'n_estimators': 1750},\n",
       "  mean: 0.60299, std: 0.00034, params: {'learning_rate': 0.001, 'n_estimators': 100},\n",
       "  mean: 0.78967, std: 0.00995, params: {'learning_rate': 0.001, 'n_estimators': 250},\n",
       "  mean: 0.86250, std: 0.01032, params: {'learning_rate': 0.001, 'n_estimators': 500},\n",
       "  mean: 0.87934, std: 0.00951, params: {'learning_rate': 0.001, 'n_estimators': 750},\n",
       "  mean: 0.87989, std: 0.01107, params: {'learning_rate': 0.001, 'n_estimators': 1000},\n",
       "  mean: 0.88097, std: 0.01117, params: {'learning_rate': 0.001, 'n_estimators': 1250},\n",
       "  mean: 0.87989, std: 0.01153, params: {'learning_rate': 0.001, 'n_estimators': 1500},\n",
       "  mean: 0.88097, std: 0.01204, params: {'learning_rate': 0.001, 'n_estimators': 1750}],\n",
       " {'learning_rate': 0.01, 'n_estimators': 750},\n",
       " 0.8839595550921684)"
      ]
     },
     "execution_count": 34,
     "metadata": {},
     "output_type": "execute_result"
    }
   ],
   "source": [
    "p_test3 = {'learning_rate':[0.15,0.1,0.05,0.01,0.005,0.001], 'n_estimators':[100,250,500,750,1000,1250,1500,1750]}\n",
    "\n",
    "tuning = GridSearchCV(estimator =GradientBoostingClassifier(max_depth=4, min_samples_split=2, min_samples_leaf=1, subsample=1,max_features='sqrt', random_state=10), \n",
    "            param_grid = p_test3, scoring='accuracy',n_jobs=4,iid=False, cv=5)\n",
    "tuning.fit(X_train,y_train)\n",
    "tuning.grid_scores_, tuning.best_params_, tuning.best_score_"
   ]
  },
  {
   "cell_type": "markdown",
   "metadata": {},
   "source": [
    "\n",
    "### max_depth\n",
    "\n",
    "max_depth bounds the maximum depth of the tree. We can use the obtained results to tune the max_depth parameter. There is one interesting comment on depth in the scikit-learn documentation especially relevant for large datasets: \"We found that max_leaf_nodes=k gives comparable results to max_depth=k-1 but is significantly faster to train at the expense of a slightly higher training error.\"\n"
   ]
  },
  {
   "cell_type": "code",
   "execution_count": 35,
   "metadata": {},
   "outputs": [
    {
     "data": {
      "text/plain": [
       "([mean: 0.88016, std: 0.01203, params: {'max_depth': 2},\n",
       "  mean: 0.88315, std: 0.01271, params: {'max_depth': 3},\n",
       "  mean: 0.88396, std: 0.01515, params: {'max_depth': 4},\n",
       "  mean: 0.88341, std: 0.01571, params: {'max_depth': 5},\n",
       "  mean: 0.88206, std: 0.01540, params: {'max_depth': 6},\n",
       "  mean: 0.88260, std: 0.01308, params: {'max_depth': 7}],\n",
       " {'max_depth': 4},\n",
       " 0.8839595550921684)"
      ]
     },
     "execution_count": 35,
     "metadata": {},
     "output_type": "execute_result"
    }
   ],
   "source": [
    "p_test2 = {'max_depth':[2,3,4,5,6,7] }\n",
    "tuning = GridSearchCV(estimator =GradientBoostingClassifier(learning_rate=0.01,n_estimators=750, min_samples_split=2, min_samples_leaf=1, subsample=1,max_features='sqrt', random_state=10), \n",
    "            param_grid = p_test2, scoring='accuracy',n_jobs=4,iid=False, cv=5)\n",
    "tuning.fit(X_train,y_train)\n",
    "tuning.grid_scores_, tuning.best_params_, tuning.best_score_"
   ]
  },
  {
   "cell_type": "markdown",
   "metadata": {},
   "source": [
    "### First evaluation of new model on test set\n",
    "\n",
    "The model's performance did improve with the tuning. The \"true positive\" and the \"true negative\" rate improved. Interestingly, there was also a slight change in the ranking of feature importance with the interaction of bang and crl_tot now ranked first.\n"
   ]
  },
  {
   "cell_type": "code",
   "execution_count": 24,
   "metadata": {},
   "outputs": [
    {
     "name": "stdout",
     "output_type": "stream",
     "text": [
      "Accuracy of the GBM on test set: 0.877\n",
      "             precision    recall  f1-score   support\n",
      "\n",
      "          0       0.86      0.96      0.91       569\n",
      "          1       0.91      0.75      0.82       352\n",
      "\n",
      "avg / total       0.88      0.88      0.87       921\n",
      "\n"
     ]
    },
    {
     "data": {
      "image/png": "[encoded data removed]",
      "text/plain": [
       "<Figure size 432x288 with 1 Axes>"
      ]
     },
     "metadata": {},
     "output_type": "display_data"
    }
   ],
   "source": [
    "model1 = GradientBoostingClassifier(learning_rate=0.01, n_estimators=750,max_depth=4, min_samples_split=2, min_samples_leaf=1, subsample=1,max_features='sqrt', random_state=10)\n",
    "model1.fit(X_train,y_train)\n",
    "predictors=list(X_train)\n",
    "feat_imp = pd.Series(model1.feature_importances_, predictors).sort_values(ascending=False)\n",
    "feat_imp.plot(kind='bar', title='Importance of Features')\n",
    "plt.ylabel('Feature Importance Score')\n",
    "print('Accuracy of the GBM on test set: {:.3f}'.format(model1.score(X_test, y_test)))\n",
    "pred=model1.predict(X_test)\n",
    "print(classification_report(y_test, pred))\n",
    "plt.show()"
   ]
  },
  {
   "cell_type": "markdown",
   "metadata": {},
   "source": [
    "### Other factors\n",
    "\n",
    "#### Tree related parameters: Min sample split and min samples leaf\n",
    "\n",
    "min_samples_split sets the minimum number of samples to split while min_samples_leaf sets the minimum number of samples to form a leaf (Notice the slight difference).\n"
   ]
  },
  {
   "cell_type": "code",
   "execution_count": 25,
   "metadata": {},
   "outputs": [
    {
     "data": {
      "text/plain": [
       "([mean: 0.88396, std: 0.01515, params: {'min_samples_split': 2, 'min_samples_leaf': 1},\n",
       "  mean: 0.88423, std: 0.01452, params: {'min_samples_split': 4, 'min_samples_leaf': 1},\n",
       "  mean: 0.88396, std: 0.01448, params: {'min_samples_split': 6, 'min_samples_leaf': 1},\n",
       "  mean: 0.88314, std: 0.01511, params: {'min_samples_split': 8, 'min_samples_leaf': 1},\n",
       "  mean: 0.88369, std: 0.01366, params: {'min_samples_split': 10, 'min_samples_leaf': 1},\n",
       "  mean: 0.88478, std: 0.01441, params: {'min_samples_split': 20, 'min_samples_leaf': 1},\n",
       "  mean: 0.88369, std: 0.01429, params: {'min_samples_split': 40, 'min_samples_leaf': 1},\n",
       "  mean: 0.88423, std: 0.01516, params: {'min_samples_split': 60, 'min_samples_leaf': 1},\n",
       "  mean: 0.88505, std: 0.01307, params: {'min_samples_split': 100, 'min_samples_leaf': 1},\n",
       "  mean: 0.88396, std: 0.01514, params: {'min_samples_split': 2, 'min_samples_leaf': 3},\n",
       "  mean: 0.88396, std: 0.01514, params: {'min_samples_split': 4, 'min_samples_leaf': 3},\n",
       "  mean: 0.88396, std: 0.01514, params: {'min_samples_split': 6, 'min_samples_leaf': 3},\n",
       "  mean: 0.88369, std: 0.01524, params: {'min_samples_split': 8, 'min_samples_leaf': 3},\n",
       "  mean: 0.88369, std: 0.01598, params: {'min_samples_split': 10, 'min_samples_leaf': 3},\n",
       "  mean: 0.88369, std: 0.01472, params: {'min_samples_split': 20, 'min_samples_leaf': 3},\n",
       "  mean: 0.88260, std: 0.01598, params: {'min_samples_split': 40, 'min_samples_leaf': 3},\n",
       "  mean: 0.88260, std: 0.01656, params: {'min_samples_split': 60, 'min_samples_leaf': 3},\n",
       "  mean: 0.88369, std: 0.01445, params: {'min_samples_split': 100, 'min_samples_leaf': 3},\n",
       "  mean: 0.88315, std: 0.01481, params: {'min_samples_split': 2, 'min_samples_leaf': 5},\n",
       "  mean: 0.88315, std: 0.01481, params: {'min_samples_split': 4, 'min_samples_leaf': 5},\n",
       "  mean: 0.88315, std: 0.01481, params: {'min_samples_split': 6, 'min_samples_leaf': 5},\n",
       "  mean: 0.88315, std: 0.01481, params: {'min_samples_split': 8, 'min_samples_leaf': 5},\n",
       "  mean: 0.88315, std: 0.01481, params: {'min_samples_split': 10, 'min_samples_leaf': 5},\n",
       "  mean: 0.88342, std: 0.01428, params: {'min_samples_split': 20, 'min_samples_leaf': 5},\n",
       "  mean: 0.88260, std: 0.01418, params: {'min_samples_split': 40, 'min_samples_leaf': 5},\n",
       "  mean: 0.88233, std: 0.01413, params: {'min_samples_split': 60, 'min_samples_leaf': 5},\n",
       "  mean: 0.88233, std: 0.01304, params: {'min_samples_split': 100, 'min_samples_leaf': 5},\n",
       "  mean: 0.88342, std: 0.01376, params: {'min_samples_split': 2, 'min_samples_leaf': 7},\n",
       "  mean: 0.88342, std: 0.01376, params: {'min_samples_split': 4, 'min_samples_leaf': 7},\n",
       "  mean: 0.88342, std: 0.01376, params: {'min_samples_split': 6, 'min_samples_leaf': 7},\n",
       "  mean: 0.88342, std: 0.01376, params: {'min_samples_split': 8, 'min_samples_leaf': 7},\n",
       "  mean: 0.88342, std: 0.01376, params: {'min_samples_split': 10, 'min_samples_leaf': 7},\n",
       "  mean: 0.88342, std: 0.01314, params: {'min_samples_split': 20, 'min_samples_leaf': 7},\n",
       "  mean: 0.88396, std: 0.01373, params: {'min_samples_split': 40, 'min_samples_leaf': 7},\n",
       "  mean: 0.88342, std: 0.01345, params: {'min_samples_split': 60, 'min_samples_leaf': 7},\n",
       "  mean: 0.88396, std: 0.01292, params: {'min_samples_split': 100, 'min_samples_leaf': 7},\n",
       "  mean: 0.88369, std: 0.01380, params: {'min_samples_split': 2, 'min_samples_leaf': 9},\n",
       "  mean: 0.88369, std: 0.01380, params: {'min_samples_split': 4, 'min_samples_leaf': 9},\n",
       "  mean: 0.88369, std: 0.01380, params: {'min_samples_split': 6, 'min_samples_leaf': 9},\n",
       "  mean: 0.88369, std: 0.01380, params: {'min_samples_split': 8, 'min_samples_leaf': 9},\n",
       "  mean: 0.88369, std: 0.01380, params: {'min_samples_split': 10, 'min_samples_leaf': 9},\n",
       "  mean: 0.88260, std: 0.01398, params: {'min_samples_split': 20, 'min_samples_leaf': 9},\n",
       "  mean: 0.88315, std: 0.01355, params: {'min_samples_split': 40, 'min_samples_leaf': 9},\n",
       "  mean: 0.88287, std: 0.01361, params: {'min_samples_split': 60, 'min_samples_leaf': 9},\n",
       "  mean: 0.88233, std: 0.01416, params: {'min_samples_split': 100, 'min_samples_leaf': 9}],\n",
       " {'min_samples_leaf': 1, 'min_samples_split': 100},\n",
       " 0.8850483591761288)"
      ]
     },
     "execution_count": 25,
     "metadata": {},
     "output_type": "execute_result"
    }
   ],
   "source": [
    "p_test4 = {'min_samples_split':[2,4,6,8,10,20,40,60,100], 'min_samples_leaf':[1,3,5,7,9]}\n",
    "\n",
    "tuning = GridSearchCV(estimator =GradientBoostingClassifier(learning_rate=0.01, n_estimators=750,max_depth=4, subsample=1,max_features='sqrt', random_state=10), \n",
    "            param_grid = p_test4, scoring='accuracy',n_jobs=4,iid=False, cv=5)\n",
    "tuning.fit(X_train,y_train)\n",
    "tuning.grid_scores_, tuning.best_params_, tuning.best_score_"
   ]
  },
  {
   "cell_type": "markdown",
   "metadata": {},
   "source": [
    "### Max features\n",
    "\n",
    "The square root of features is usually a good starting point. Let's use CV to tune the parameter. The tuning suggests to use 4 features (close to the sqrt of 21).\n"
   ]
  },
  {
   "cell_type": "code",
   "execution_count": 26,
   "metadata": {},
   "outputs": [
    {
     "data": {
      "text/plain": [
       "([mean: 0.88206, std: 0.01292, params: {'max_features': 2},\n",
       "  mean: 0.88125, std: 0.01258, params: {'max_features': 3},\n",
       "  mean: 0.87853, std: 0.01133, params: {'max_features': 4},\n",
       "  mean: 0.87908, std: 0.00918, params: {'max_features': 5},\n",
       "  mean: 0.87744, std: 0.00887, params: {'max_features': 6},\n",
       "  mean: 0.87527, std: 0.00800, params: {'max_features': 7}],\n",
       " {'max_features': 2},\n",
       " 0.8820629168427445)"
      ]
     },
     "execution_count": 26,
     "metadata": {},
     "output_type": "execute_result"
    }
   ],
   "source": [
    "#TUNING MAX FEATURES\n",
    "p_test5 = {'max_features':[2,3,4,5,6,7]}\n",
    "tuning = GridSearchCV(estimator =GradientBoostingClassifier(learning_rate=0.01, n_estimators=7500,max_depth=4, min_samples_split=100, min_samples_leaf=1, subsample=1, random_state=10), \n",
    "param_grid = p_test5, scoring='accuracy',n_jobs=4,iid=False, cv=5)\n",
    "tuning.fit(X_train,y_train)\n",
    "tuning.grid_scores_, tuning.best_params_, tuning.best_score_"
   ]
  },
  {
   "cell_type": "markdown",
   "metadata": {},
   "source": [
    "### Subsample\n",
    "\n",
    "Subsample sets the fraction of samples to be used for fitting the individual base learners. Values lower than 1 generally lead to a reduction of variance and an increase in bias."
   ]
  },
  {
   "cell_type": "code",
   "execution_count": 29,
   "metadata": {},
   "outputs": [
    {
     "data": {
      "text/plain": [
       "([mean: 0.88152, std: 0.01321, params: {'subsample': 0.7},\n",
       "  mean: 0.88260, std: 0.01278, params: {'subsample': 0.75},\n",
       "  mean: 0.88206, std: 0.01329, params: {'subsample': 0.8},\n",
       "  mean: 0.88206, std: 0.01315, params: {'subsample': 0.85},\n",
       "  mean: 0.88288, std: 0.01245, params: {'subsample': 0.9},\n",
       "  mean: 0.88342, std: 0.01297, params: {'subsample': 0.95},\n",
       "  mean: 0.88369, std: 0.01114, params: {'subsample': 1}],\n",
       " {'subsample': 1},\n",
       " 0.8836900322337655)"
      ]
     },
     "execution_count": 29,
     "metadata": {},
     "output_type": "execute_result"
    }
   ],
   "source": [
    "p_test6= {'subsample':[0.7,0.75,0.8,0.85,0.9,0.95,1]}\n",
    "\n",
    "tuning = GridSearchCV(estimator =GradientBoostingClassifier(learning_rate=0.01, n_estimators=750,max_depth=4, min_samples_split=100, min_samples_leaf=1,max_features=2 , random_state=10), \n",
    "param_grid = p_test6, scoring='accuracy',n_jobs=4,iid=False, cv=5)\n",
    "tuning.fit(X_train,y_train)\n",
    "tuning.grid_scores_, tuning.best_params_, tuning.best_score_"
   ]
  },
  {
   "cell_type": "markdown",
   "metadata": {},
   "source": [
    "## Evaluation of final model on Test set\n",
    "\n",
    "The final model performs slightly worse than the model after the first stage of parameter tuning if applied to the test set. The difference is, however, very small."
   ]
  },
  {
   "cell_type": "code",
   "execution_count": 30,
   "metadata": {},
   "outputs": [
    {
     "name": "stdout",
     "output_type": "stream",
     "text": [
      "Accuracy of the GBM on test set: 0.871\n",
      "             precision    recall  f1-score   support\n",
      "\n",
      "          0       0.85      0.96      0.90       569\n",
      "          1       0.91      0.73      0.81       352\n",
      "\n",
      "avg / total       0.88      0.87      0.87       921\n",
      "\n"
     ]
    }
   ],
   "source": [
    "new=GradientBoostingClassifier(learning_rate=0.01, n_estimators=750,max_depth=4, min_samples_split=100, min_samples_leaf=1,max_features=2 , subsample=1, random_state=10)\n",
    "new.fit(X_train,y_train)\n",
    "predictors=list(X_train)\n",
    "feat_imp = pd.Series(new.feature_importances_, predictors).sort_values(ascending=False)\n",
    "feat_imp.plot(kind='bar', title='Importance of Features')\n",
    "plt.ylabel('Feature Importance Score')\n",
    "print('Accuracy of the GBM on test set: {:.3f}'.format(new.score(X_test, y_test)))\n",
    "pred=new.predict(X_test)\n",
    "print(classification_report(y_test, pred))"
   ]
  },
  {
   "cell_type": "markdown",
   "metadata": {},
   "source": [
    "### Comparison of ROC AUC\n",
    "\n",
    "Comparing the area under the curve, the three models only slightly differ. Model 1 performs best best on the AUC measure for the test dataset.\n"
   ]
  },
  {
   "cell_type": "code",
   "execution_count": 36,
   "metadata": {},
   "outputs": [
    {
     "data": {
      "image/png": "[encoded data removed]",
      "text/plain": [
       "<Figure size 432x288 with 1 Axes>"
      ]
     },
     "metadata": {},
     "output_type": "display_data"
    }
   ],
   "source": [
    "from sklearn import metrics\n",
    "from sklearn.metrics import roc_auc_score\n",
    "from sklearn.metrics import roc_curve \n",
    "\n",
    "\n",
    "#run models\n",
    "baseline = GradientBoostingClassifier(learning_rate=0.1, n_estimators=100,max_depth=3, min_samples_split=2, min_samples_leaf=1, subsample=1,max_features='sqrt', random_state=10)\n",
    "baseline.fit(X_train,y_train)\n",
    "\n",
    "model1 = GradientBoostingClassifier(learning_rate=0.01, n_estimators=750,max_depth=4, min_samples_split=2, min_samples_leaf=1, subsample=1,max_features='sqrt', random_state=10)\n",
    "model1.fit(X_train,y_train)\n",
    "\n",
    "new=GradientBoostingClassifier(learning_rate=0.01, n_estimators=750,max_depth=4, min_samples_split=100, min_samples_leaf=1,max_features=2 , subsample=1, random_state=10)\n",
    "new.fit(X_train,y_train)\n",
    "\n",
    "#calculate values for ROC AUC plot\n",
    "#baseline model\n",
    "baseline_roc_auc = roc_auc_score(y_test, baseline.predict(X_test))\n",
    "fprB, tprB, thresholdsB = roc_curve(y_test, baseline.predict_proba(X_test)[:,1])\n",
    "#model 1\n",
    "model1_roc_auc = roc_auc_score(y_test, model1.predict(X_test))\n",
    "fpr1, tpr1, thresholds1 = roc_curve(y_test, model1.predict_proba(X_test)[:,1])\n",
    "#new tuned model \n",
    "new_roc_auc = roc_auc_score(y_test, new.predict(X_test))\n",
    "fprnew, tprnew, thresholds_new = roc_curve(y_test, new.predict_proba(X_test)[:,1])\n",
    "\n",
    "plt.figure()\n",
    "plt.plot(fprB, tprB, label='GBM Baseline (area = %0.2f)' % baseline_roc_auc)\n",
    "plt.plot(fpr1, tpr1, label='GBM Model 1 (area = %0.2f)' % model1_roc_auc)\n",
    "plt.plot(fprnew, tprnew, label='GBM Final Model (area = %0.2f)' % new_roc_auc)\n",
    "\n",
    "plt.plot([0, 1], [0, 1],'r--')\n",
    "plt.xlim([0.0, 1.0])\n",
    "plt.ylim([0.0, 1.05])\n",
    "plt.xlabel('False Positive Rate')\n",
    "plt.ylabel('True Positive Rate')\n",
    "plt.title('Receiver operating characteristic')\n",
    "plt.legend(loc=\"lower right\")\n",
    "#plt.savefig('Log_ROC')\n",
    "plt.show()"
   ]
  }
 ],
 "metadata": {
  "anaconda-cloud": {},
  "kernelspec": {
   "display_name": "Python 3",
   "language": "python",
   "name": "python3"
  },
  "language_info": {
   "codemirror_mode": {
    "name": "ipython",
    "version": 3
   },
   "file_extension": ".py",
   "mimetype": "text/x-python",
   "name": "python",
   "nbconvert_exporter": "python",
   "pygments_lexer": "ipython3",
   "version": "3.5.2"
  }
 },
 "nbformat": 4,
 "nbformat_minor": 2
}
