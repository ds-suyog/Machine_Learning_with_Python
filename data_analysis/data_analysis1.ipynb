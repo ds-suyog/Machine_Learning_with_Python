{
 "cells": [
  {
   "cell_type": "code",
   "execution_count": 7,
   "metadata": {},
   "outputs": [],
   "source": [
    "import pandas as pd"
   ]
  },
  {
   "cell_type": "code",
   "execution_count": 6,
   "metadata": {},
   "outputs": [
    {
     "name": "stdout",
     "output_type": "stream",
     "text": [
      "game on!\n"
     ]
    }
   ],
   "source": [
    "print(\"game on!\")"
   ]
  },
  {
   "cell_type": "code",
   "execution_count": 15,
   "metadata": {},
   "outputs": [
    {
     "name": "stdout",
     "output_type": "stream",
     "text": [
      "     area    capital       country             interests  population  \\\n",
      "0   8.516   Brasilia        Brazil                python      200.40   \n",
      "1  17.100     Moscow        Russia        data analytics      143.50   \n",
      "2   3.286  New Dehli         India  statistical analysis     1252.00   \n",
      "3   9.597    Beijing         China       cloud computing     1357.00   \n",
      "4   1.221   Pretoria  South Africa       problem solving       52.98   \n",
      "\n",
      "          variants  \n",
      "0          PySpark  \n",
      "1           sparkR  \n",
      "2         sparklyr  \n",
      "3  Sparkling Water  \n",
      "4           pyCUDA  \n"
     ]
    }
   ],
   "source": [
    "dict = {\"country\": [\"Brazil\", \"Russia\", \"India\", \"China\", \"South Africa\"],\n",
    "        \"interests\": [\"python\", \"data analytics\", \"statistical analysis\", \"cloud computing\", \"problem solving\"],\n",
    "        \"variants\" : [\"PySpark\", \"sparkR\", \"sparklyr\", \"Sparkling Water\", \"pyCUDA\"],\n",
    "       \"capital\": [\"Brasilia\", \"Moscow\", \"New Dehli\", \"Beijing\", \"Pretoria\"],\n",
    "       \"area\": [8.516, 17.10, 3.286, 9.597, 1.221],\n",
    "       \"population\": [200.4, 143.5, 1252, 1357, 52.98] }\n",
    "\n",
    "import pandas as pd\n",
    "brics = pd.DataFrame(dict)\n",
    "print(brics)"
   ]
  },
  {
   "cell_type": "code",
   "execution_count": null,
   "metadata": {},
   "outputs": [],
   "source": []
  }
 ],
 "metadata": {
  "kernelspec": {
   "display_name": "Python 3",
   "language": "python",
   "name": "python3"
  },
  "language_info": {
   "codemirror_mode": {
    "name": "ipython",
    "version": 3
   },
   "file_extension": ".py",
   "mimetype": "text/x-python",
   "name": "python",
   "nbconvert_exporter": "python",
   "pygments_lexer": "ipython3",
   "version": "3.5.2"
  }
 },
 "nbformat": 4,
 "nbformat_minor": 2
}
